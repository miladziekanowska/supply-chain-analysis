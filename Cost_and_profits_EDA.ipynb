{
 "cells": [
  {
   "cell_type": "markdown",
   "id": "dd5d2056-9ee7-4be4-995e-ff3b7fc91f3a",
   "metadata": {},
   "source": [
    "In this notebook we will take a dive into the costs and profits of all our orders. We will see, which products are the most profitable and which ones should, perhaps, be taken of the list.   \n",
    "Among others, we will see:\n",
    "- which product categories are ordered most often;\n",
    "- which product categories are most often cancelled or possibli fraudulant;\n",
    "- which products in each category bring in the most and the least profit;\n",
    "- how do the customers types differ in the things they order;\n",
    "- on which categories and which products is the company losing the most;\n",
    "- what are the most and least expensive products;\n",
    "- which categories are the most and least expensive, and averages, distribution of prices, kurtosis;\n",
    "- which categories are the most discounted ones;\n",
    "- how many sales are made per customer and it's total;\n",
    "- "
   ]
  }
 ],
 "metadata": {
  "kernelspec": {
   "display_name": "Python 3 (ipykernel)",
   "language": "python",
   "name": "python3"
  },
  "language_info": {
   "codemirror_mode": {
    "name": "ipython",
    "version": 3
   },
   "file_extension": ".py",
   "mimetype": "text/x-python",
   "name": "python",
   "nbconvert_exporter": "python",
   "pygments_lexer": "ipython3",
   "version": "3.10.9"
  }
 },
 "nbformat": 4,
 "nbformat_minor": 5
}
